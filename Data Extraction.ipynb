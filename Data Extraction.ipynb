{
 "cells": [
  {
   "cell_type": "code",
   "execution_count": 1,
   "id": "f80143d1",
   "metadata": {},
   "outputs": [
    {
     "name": "stdout",
     "output_type": "stream",
     "text": [
      "Requirement already satisfied: snscrape in c:\\anaconda\\lib\\site-packages (0.6.2.20230320)\n",
      "Requirement already satisfied: beautifulsoup4 in c:\\anaconda\\lib\\site-packages (from snscrape) (4.11.1)\n",
      "Requirement already satisfied: lxml in c:\\anaconda\\lib\\site-packages (from snscrape) (4.9.1)\n",
      "Requirement already satisfied: filelock in c:\\anaconda\\lib\\site-packages (from snscrape) (3.9.0)\n",
      "Requirement already satisfied: requests[socks] in c:\\anaconda\\lib\\site-packages (from snscrape) (2.28.1)\n",
      "Requirement already satisfied: soupsieve>1.2 in c:\\anaconda\\lib\\site-packages (from beautifulsoup4->snscrape) (2.3.2.post1)\n",
      "Requirement already satisfied: urllib3<1.27,>=1.21.1 in c:\\anaconda\\lib\\site-packages (from requests[socks]->snscrape) (1.26.14)\n",
      "Requirement already satisfied: idna<4,>=2.5 in c:\\anaconda\\lib\\site-packages (from requests[socks]->snscrape) (3.4)\n",
      "Requirement already satisfied: charset-normalizer<3,>=2 in c:\\anaconda\\lib\\site-packages (from requests[socks]->snscrape) (2.0.4)\n",
      "Requirement already satisfied: certifi>=2017.4.17 in c:\\anaconda\\lib\\site-packages (from requests[socks]->snscrape) (2022.12.7)\n",
      "Requirement already satisfied: PySocks!=1.5.7,>=1.5.6 in c:\\anaconda\\lib\\site-packages (from requests[socks]->snscrape) (1.7.1)\n",
      "Note: you may need to restart the kernel to use updated packages.\n"
     ]
    }
   ],
   "source": [
    "pip install snscrape --upgrade"
   ]
  },
  {
   "cell_type": "code",
   "execution_count": 21,
   "id": "e40a933a",
   "metadata": {},
   "outputs": [],
   "source": [
    "#importing all the required packages\n",
    "\n",
    "import snscrape.modules.twitter as sntwitter\n",
    "import pandas as pd\n",
    "from re import IGNORECASE\n",
    "\n",
    "import warnings\n",
    "warnings.simplefilter(action='ignore', category=FutureWarning)"
   ]
  },
  {
   "cell_type": "code",
   "execution_count": 23,
   "id": "65e5e52a",
   "metadata": {},
   "outputs": [],
   "source": [
    "# Extracting all the tweets with the time range of LizTruss as being the PM of UK. (Sept 6th, 2022 to Oct 20th, 2022)\n",
    "appletweets_df= []\n",
    "\n",
    "date = pd.date_range('20230301','20230401')\n",
    "date_range = date.format(formatter=lambda x: x.strftime('%Y-%m-%d'))\n",
    "\n",
    "for _ in date_range:\n",
    "    for i ,tweet in enumerate(sntwitter.TwitterSearchScraper(f'AppleSupport OR #AppleSupport until:{_} lang:en').get_items()):\n",
    "        if i >= 100 : #Extracting 70 tweets per day\n",
    "            break\n",
    "        appletweets_df.append([tweet.user.username, tweet.date, tweet.rawContent])\n",
    "\n",
    "appletweets_df = pd.DataFrame(appletweets_df, columns=[\"User\", \"Date Created\", \"Tweets\"])"
   ]
  },
  {
   "cell_type": "code",
   "execution_count": 24,
   "id": "81c478a2",
   "metadata": {},
   "outputs": [
    {
     "name": "stdout",
     "output_type": "stream",
     "text": [
      "<class 'pandas.core.frame.DataFrame'>\n",
      "RangeIndex: 3200 entries, 0 to 3199\n",
      "Data columns (total 3 columns):\n",
      " #   Column        Non-Null Count  Dtype              \n",
      "---  ------        --------------  -----              \n",
      " 0   User          3200 non-null   object             \n",
      " 1   Date Created  3200 non-null   datetime64[ns, UTC]\n",
      " 2   Tweets        3200 non-null   object             \n",
      "dtypes: datetime64[ns, UTC](1), object(2)\n",
      "memory usage: 75.1+ KB\n"
     ]
    }
   ],
   "source": [
    "appletweets_df.info()"
   ]
  },
  {
   "cell_type": "code",
   "execution_count": 25,
   "id": "c8cad048",
   "metadata": {},
   "outputs": [
    {
     "data": {
      "text/plain": [
       "(3200, 3)"
      ]
     },
     "execution_count": 25,
     "metadata": {},
     "output_type": "execute_result"
    }
   ],
   "source": [
    "appletweets_df.shape"
   ]
  },
  {
   "cell_type": "code",
   "execution_count": 27,
   "id": "7c8416c3",
   "metadata": {},
   "outputs": [
    {
     "data": {
      "text/html": [
       "<div>\n",
       "<style scoped>\n",
       "    .dataframe tbody tr th:only-of-type {\n",
       "        vertical-align: middle;\n",
       "    }\n",
       "\n",
       "    .dataframe tbody tr th {\n",
       "        vertical-align: top;\n",
       "    }\n",
       "\n",
       "    .dataframe thead th {\n",
       "        text-align: right;\n",
       "    }\n",
       "</style>\n",
       "<table border=\"1\" class=\"dataframe\">\n",
       "  <thead>\n",
       "    <tr style=\"text-align: right;\">\n",
       "      <th></th>\n",
       "      <th>User</th>\n",
       "      <th>Date Created</th>\n",
       "      <th>Tweets</th>\n",
       "    </tr>\n",
       "  </thead>\n",
       "  <tbody>\n",
       "    <tr>\n",
       "      <th>0</th>\n",
       "      <td>Stevelee987</td>\n",
       "      <td>2023-02-28 23:58:45+00:00</td>\n",
       "      <td>@AppleSupport any tips to stop my iPhone 13 Pr...</td>\n",
       "    </tr>\n",
       "    <tr>\n",
       "      <th>1</th>\n",
       "      <td>AppleSupport</td>\n",
       "      <td>2023-02-28 23:57:11+00:00</td>\n",
       "      <td>@tejbirbedi Thanks for tagging us! We’d be hap...</td>\n",
       "    </tr>\n",
       "    <tr>\n",
       "      <th>2</th>\n",
       "      <td>AppleSupport</td>\n",
       "      <td>2023-02-28 23:51:56+00:00</td>\n",
       "      <td>@TheJShield We can help look into this with yo...</td>\n",
       "    </tr>\n",
       "    <tr>\n",
       "      <th>3</th>\n",
       "      <td>theITrebel</td>\n",
       "      <td>2023-02-28 23:48:47+00:00</td>\n",
       "      <td>@samuel_clements @JonesyChris This is exactly ...</td>\n",
       "    </tr>\n",
       "    <tr>\n",
       "      <th>4</th>\n",
       "      <td>AppleSupport</td>\n",
       "      <td>2023-02-28 23:45:55+00:00</td>\n",
       "      <td>@Mikeperezc We can help look into what’s happe...</td>\n",
       "    </tr>\n",
       "    <tr>\n",
       "      <th>...</th>\n",
       "      <td>...</td>\n",
       "      <td>...</td>\n",
       "      <td>...</td>\n",
       "    </tr>\n",
       "    <tr>\n",
       "      <th>3195</th>\n",
       "      <td>AnifridS</td>\n",
       "      <td>2023-03-31 19:31:05+00:00</td>\n",
       "      <td>@HWarlow @AppleSupport Yes that's what I do bu...</td>\n",
       "    </tr>\n",
       "    <tr>\n",
       "      <th>3196</th>\n",
       "      <td>HWarlow</td>\n",
       "      <td>2023-03-31 19:25:25+00:00</td>\n",
       "      <td>@AnifridS @AppleSupport It is. I agree.  Usual...</td>\n",
       "    </tr>\n",
       "    <tr>\n",
       "      <th>3197</th>\n",
       "      <td>HWarlow</td>\n",
       "      <td>2023-03-31 19:24:13+00:00</td>\n",
       "      <td>@Luminaria98 @AppleSupport Nightmare.  I somet...</td>\n",
       "    </tr>\n",
       "    <tr>\n",
       "      <th>3198</th>\n",
       "      <td>realalexrose</td>\n",
       "      <td>2023-03-31 19:24:01+00:00</td>\n",
       "      <td>@AppleSupport iPad 10th Generation, iPhone 13 ...</td>\n",
       "    </tr>\n",
       "    <tr>\n",
       "      <th>3199</th>\n",
       "      <td>wanderisor</td>\n",
       "      <td>2023-03-31 19:23:28+00:00</td>\n",
       "      <td>@AppleSupport Update: @Apple weather is still ...</td>\n",
       "    </tr>\n",
       "  </tbody>\n",
       "</table>\n",
       "<p>3200 rows × 3 columns</p>\n",
       "</div>"
      ],
      "text/plain": [
       "              User              Date Created  \\\n",
       "0      Stevelee987 2023-02-28 23:58:45+00:00   \n",
       "1     AppleSupport 2023-02-28 23:57:11+00:00   \n",
       "2     AppleSupport 2023-02-28 23:51:56+00:00   \n",
       "3       theITrebel 2023-02-28 23:48:47+00:00   \n",
       "4     AppleSupport 2023-02-28 23:45:55+00:00   \n",
       "...            ...                       ...   \n",
       "3195      AnifridS 2023-03-31 19:31:05+00:00   \n",
       "3196       HWarlow 2023-03-31 19:25:25+00:00   \n",
       "3197       HWarlow 2023-03-31 19:24:13+00:00   \n",
       "3198  realalexrose 2023-03-31 19:24:01+00:00   \n",
       "3199    wanderisor 2023-03-31 19:23:28+00:00   \n",
       "\n",
       "                                                 Tweets  \n",
       "0     @AppleSupport any tips to stop my iPhone 13 Pr...  \n",
       "1     @tejbirbedi Thanks for tagging us! We’d be hap...  \n",
       "2     @TheJShield We can help look into this with yo...  \n",
       "3     @samuel_clements @JonesyChris This is exactly ...  \n",
       "4     @Mikeperezc We can help look into what’s happe...  \n",
       "...                                                 ...  \n",
       "3195  @HWarlow @AppleSupport Yes that's what I do bu...  \n",
       "3196  @AnifridS @AppleSupport It is. I agree.  Usual...  \n",
       "3197  @Luminaria98 @AppleSupport Nightmare.  I somet...  \n",
       "3198  @AppleSupport iPad 10th Generation, iPhone 13 ...  \n",
       "3199  @AppleSupport Update: @Apple weather is still ...  \n",
       "\n",
       "[3200 rows x 3 columns]"
      ]
     },
     "execution_count": 27,
     "metadata": {},
     "output_type": "execute_result"
    }
   ],
   "source": [
    "appletweets_df"
   ]
  },
  {
   "cell_type": "code",
   "execution_count": 26,
   "id": "a34ca0a4",
   "metadata": {},
   "outputs": [],
   "source": [
    "appletweets_df.to_csv(\"AppleTweets2.csv\", index = False)"
   ]
  }
 ],
 "metadata": {
  "kernelspec": {
   "display_name": "Python 3 (ipykernel)",
   "language": "python",
   "name": "python3"
  },
  "language_info": {
   "codemirror_mode": {
    "name": "ipython",
    "version": 3
   },
   "file_extension": ".py",
   "mimetype": "text/x-python",
   "name": "python",
   "nbconvert_exporter": "python",
   "pygments_lexer": "ipython3",
   "version": "3.10.9"
  }
 },
 "nbformat": 4,
 "nbformat_minor": 5
}
